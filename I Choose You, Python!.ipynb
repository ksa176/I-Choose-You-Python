{
 "cells": [
  {
   "cell_type": "markdown",
   "metadata": {},
   "source": [
    "# Graduate Project\n",
    "### CSCI-E7 Spring 2017\n",
    "#### Due Date: 170503\n",
    "#### Name: Michelle Gaffney\n",
    "#### TF: Kaleigh Douglas"
   ]
  },
  {
   "cell_type": "code",
   "execution_count": 1,
   "metadata": {
    "collapsed": true
   },
   "outputs": [],
   "source": [
    "#import necessary modules\n",
    "import random\n",
    "from IPython.display import Image, display"
   ]
  },
  {
   "cell_type": "markdown",
   "metadata": {},
   "source": [
    "### A brief introduction to Pokemon\n",
    "\n",
    "<p>In each main series Pokemon game, the player character builds a team of Pokemon to help them defeat the bad guys and become the greatest Pokemon trainer in the region.  Each Pokemon has one or two (mostly elemental) types and each type has strengths and weaknesses against other types.  Some types are immune to others, but I am ignoring those interactions for the purposes of this exercise.</p> \n",
    "\n",
    "<p>As Pokemon battle each other, they gain levels and many Pokemon evolve once or twice into more powerful versions.  Sometimes Pokemon gain or change a type when evolving.</p>"
   ]
  },
  {
   "cell_type": "markdown",
   "metadata": {},
   "source": [
    "### Part 1: Random team building\n",
    "\n",
    "<p>Some people find that the games can be less than challenging if you know what you're doing, so some fans will introduce handicaps to make things more interesting.  The \"random\" module in Python can help with this.\n",
    "\n",
    "<p>First things first: You need a dictionary of pokemon where the keys are pokemon species and the values are the pokemon's type(s) as a list.  I made the one below myself, but if you're willing to do some filtering/sorting, you could probably find csv files online with pokemon names and import those.  The dictionary below includes only unevolved Pokemon new to the two most recent generations of Pokemon (games Pokemon X and Y and Pokemon Sun and Moon) or Pokemon that do not evolve to keep things simple.  However, I gave each Pokemon the typing of its final evolution to maximize type availability which will come in handy for Part 2.</p>"
   ]
  },
  {
   "cell_type": "code",
   "execution_count": 28,
   "metadata": {
    "collapsed": false
   },
   "outputs": [],
   "source": [
    "#dictionary with pokemon:type\n",
    "pokemon_type = {\"chespin\": [\"grass\", \"fighting\"], \"fennekin\": [\"fire\", \"psychic\"], \"froakie\": [\"water\", \"dark\"], \n",
    "                \"bunnelby\": [\"normal\", \"ground\"], \"fletchling\": [\"fire\", \"flying\"], \"scatterbug\":\n",
    "                [\"bug\", \"flying\"], \"litleo\": [\"fire\", \"normal\"], \"flabebe\": [\"fairy\"], \"skiddo\": [\"grass\"], \n",
    "                \"pancham\": [\"fighting\", \"dark\"], \"furfrou\": [\"normal\"], \"espurr\": [\"psychic\"], \n",
    "                \"spritzee\": [\"fairy\"], \"swirlix\": [\"fairy\"], \"inkay\": [\"dark\", \"psychic\"], \"skrelp\": \n",
    "                [\"poison\", \"dragon\"], \"clauncher\": [\"water\"], \"helioptile\": [\"electric\", \"normal\"],\n",
    "                \"tyrunt\": [\"rock\", \"dragon\"], \"amaura\": [\"rock\", \"ice\"], \"hawlucha\": [\"fighting\", \"flying\"], \n",
    "                \"dedenne\": [\"electric\", \"fairy\"], \"carbink\": [\"rock\", \"fairy\"], \"goomy\": [\"dragon\"],\n",
    "                \"klefki\": [\"steel\", \"fairy\"], \"phantump\": [\"ghost\", \"grass\"], \"pumpkaboo\": [\"ghost\", \"grass\"], \n",
    "                \"bergmite\": [\"ice\"], \"noibat\": [\"flying\", \"dragon\"], \"rowlet\": [\"grass\", \"ghost\"], \n",
    "                \"litten\": [\"fire\", \"dark\"] , \"popplio\": [\"water\", \"fairy\"], \"sandygast\": [\"ghost\", \"ground\"],\n",
    "               \"pikipek\": [\"normal\", \"flying\"], \"yungoos\": [\"normal\"], \"grubbin\": [\"bug\", \"electric\"], \n",
    "               \"crabrawler\": [\"fighting\", \"ice\"], \"cutiefly\": [\"bug\", \"fairy\"],\"rockruff\": [\"rock\"], \n",
    "                \"wishiwashi\": [\"water\"], \"mareanie\": [\"poison\", \"water\"], \"mudbray\": [\"ground\"],\n",
    "               \"dewpider\": [\"water\", \"bug\"], \"fomantis\": [\"grass\"], \"morelull\": [\"grass\", \"fairy\"], \"salandit\":\n",
    "               [\"poison\", \"fire\"], \"stufful\": [\"normal\", \"fighting\"], \"bounsweet\": [\"grass\"], \"comfey\": [\"fairy\"],\n",
    "               \"oranguru\": [\"normal\", \"psychic\"], \"passimian\": [\"fighting\"], \"wimpod\": [\"bug\", \"water\"], \n",
    "                \"pyukumuku\": [\"water\"], \"minior\": [\"rock\", \"flying\"], \"komala\": [\"normal\"],\n",
    "               \"turtonator\": [\"fire\", \"dragon\"], \"togedamaru\": [\"electric\", \"steel\"], \"mimikyu\": \n",
    "                [\"ghost\", \"fairy\"], \"bruxish\": [\"water\", \"psychic\"], \"drampa\": [\"normal\", \"dragon\"], \"dhelmise\":\n",
    "               [\"ghost\", \"grass\"], \"jangmo-o\": [\"dragon\", \"fighting\"], \"honedge\": [\"steel\", \"ghost\"], \n",
    "               \"binacle\": [\"rock\", \"water\"]}"
   ]
  },
  {
   "cell_type": "markdown",
   "metadata": {},
   "source": [
    "<p>The pokemonImage function below matches Pokemon with their National Dex number (in-universe enumeration) and uses that information to display an image of the Pokemon.  This function will make the results of the team-building functions below look more interesting by importing images of each Pokemon on the team.</p>"
   ]
  },
  {
   "cell_type": "code",
   "execution_count": 221,
   "metadata": {
    "collapsed": true
   },
   "outputs": [],
   "source": [
    "pokemon_dex = {\"chespin\": \"650\", \"fennekin\": \"653\", \"froakie\": \"656\", \n",
    "                \"bunnelby\": \"659\", \"fletchling\": \"661\", \"scatterbug\":\n",
    "                \"664\", \"litleo\": \"667\", \"flabebe\": \"669\", \"skiddo\": \"672\", \n",
    "                \"pancham\": \"674\", \"furfrou\": \"676\", \"espurr\": \"677\", \n",
    "                \"spritzee\": \"682\", \"swirlix\": \"684\", \"inkay\": \"686\", \"skrelp\": \n",
    "                \"690\", \"clauncher\": \"692\", \"helioptile\": \"694\",\n",
    "                \"tyrunt\": \"696\", \"amaura\": \"698\", \"hawlucha\": \"701\", \n",
    "                \"dedenne\": \"702\", \"carbink\": \"703\", \"goomy\": \"704\",\n",
    "                \"klefki\": \"707\", \"phantump\": \"708\", \"pumpkaboo\": \"710\", \n",
    "                \"bergmite\": \"712\", \"noibat\": \"714\", \"rowlet\": \"722\", \n",
    "                \"litten\": \"725\", \"popplio\": \"728\", \"sandygast\": \"769\",\n",
    "               \"pikipek\": \"731\", \"yungoos\": \"734\", \"grubbin\": \"737\", \n",
    "               \"crabrawler\": \"739\", \"cutiefly\": \"742\",\"rockruff\": \"744\", \n",
    "                \"wishiwashi\": \"746\", \"mareanie\": \"747\", \"mudbray\": \"749\",\n",
    "               \"dewpider\": \"751\", \"fomantis\": \"753\", \"morelull\": \"755\", \"salandit\":\n",
    "               \"757\", \"stufful\": \"759\", \"bounsweet\": \"761\", \"comfey\": \"764\",\n",
    "               \"oranguru\": \"765\", \"passimian\": \"766\", \"wimpod\": \"767\", \n",
    "                \"pyukumuku\": \"771\", \"minior\": \"774\", \"komala\": \"775\",\n",
    "               \"turtonator\": \"776\", \"togedamaru\": \"777\", \"mimikyu\": \n",
    "                \"778\", \"bruxish\": \"779\", \"drampa\": \"780\", \"dhelmise\":\n",
    "               \"781\", \"jangmo-o\": \"782\", \"honedge\": \"679\", \n",
    "               \"binacle\": \"688\"}\n",
    "\n",
    "def pokemonImage(team):\n",
    "    \"\"\"Takes group of Pokemon (can be any iterable) and displays their names, types, and pictures.\"\"\"\n",
    "    #iterate through Pokemon in input team\n",
    "    for pokemon in team:\n",
    "        #insert National Dex number into the URL to display the Pokemon's image\n",
    "        image = Image(\"http://www.serebii.net/sunmoon/pokemon/\" + pokemon_dex[pokemon] + \".png\")\n",
    "        print(pokemon, pokemon_type[pokemon])\n",
    "        display(image)"
   ]
  },
  {
   "cell_type": "markdown",
   "metadata": {},
   "source": [
    "<p>Now we write a function, randomPokemon(a).  This function will take the above dictionary (or any dictionary you create that meets the correct format) and return a dictionary that includes six unique pokemon with no overlapping types.  The function will pick a random Pokemon from the input dictionary using the \"choice\" function from the \"random\" module and add that Pokemon to the results dictionary as long as there is not already a Pokemon of that type in the results dictionary.</p>"
   ]
  },
  {
   "cell_type": "code",
   "execution_count": 233,
   "metadata": {
    "collapsed": false
   },
   "outputs": [
    {
     "name": "stdout",
     "output_type": "stream",
     "text": [
      "Your team is: \n",
      "\n",
      "chespin ['grass', 'fighting']\n"
     ]
    },
    {
     "data": {
      "image/png": "[encoded data removed]",
      "text/plain": [
       "<IPython.core.display.Image object>"
      ]
     },
     "metadata": {},
     "output_type": "display_data"
    },
    {
     "name": "stdout",
     "output_type": "stream",
     "text": [
      "honedge ['steel', 'ghost']\n"
     ]
    },
    {
     "data": {
      "image/png": "[encoded data removed]",
      "text/plain": [
       "<IPython.core.display.Image object>"
      ]
     },
     "metadata": {},
     "output_type": "display_data"
    },
    {
     "name": "stdout",
     "output_type": "stream",
     "text": [
      "bunnelby ['normal', 'ground']\n"
     ]
    },
    {
     "data": {
      "image/png": "[encoded data removed]",
      "text/plain": [
       "<IPython.core.display.Image object>"
      ]
     },
     "metadata": {},
     "output_type": "display_data"
    },
    {
     "name": "stdout",
     "output_type": "stream",
     "text": [
      "bruxish ['water', 'psychic']\n"
     ]
    },
    {
     "data": {
      "image/png": "[encoded data removed]",
      "text/plain": [
       "<IPython.core.display.Image object>"
      ]
     },
     "metadata": {},
     "output_type": "display_data"
    },
    {
     "name": "stdout",
     "output_type": "stream",
     "text": [
      "grubbin ['bug', 'electric']\n"
     ]
    },
    {
     "data": {
      "image/png": "[encoded data removed]",
      "text/plain": [
       "<IPython.core.display.Image object>"
      ]
     },
     "metadata": {},
     "output_type": "display_data"
    },
    {
     "name": "stdout",
     "output_type": "stream",
     "text": [
      "litten ['fire', 'dark']\n"
     ]
    },
    {
     "data": {
      "image/png": "[encoded data removed]",
      "text/plain": [
       "<IPython.core.display.Image object>"
      ]
     },
     "metadata": {},
     "output_type": "display_data"
    }
   ],
   "source": [
    "def randomPokemon(pokemon_dict):\n",
    "    \"\"\"\n",
    "    Takes dictionary 'a' in format pokemon:[types] and returns dictionary containing six pokemon with no\n",
    "    overlapping types.\n",
    "    \"\"\"\n",
    "    #create empty dictionary to hold results and empty list to hold discarded items\n",
    "    results = {}\n",
    "    discard = []\n",
    "    #while loop will repeat until results dictionary has six Pokemon\n",
    "    while len(results) < 6:\n",
    "        #pick random Pokemon from dictionary and store in variable \"entry\"\n",
    "        entry = random.choice(list(pokemon_dict))\n",
    "        #compare the types of the selected Pokemon with the types of Pokemon already in the results dictionary\n",
    "        for item in list(results.values()):\n",
    "            for typing in item:\n",
    "                for item1 in pokemon_dict[entry]:\n",
    "                    #if any of the types match, the Pokemon will go into the discard list\n",
    "                    if typing == item1:\n",
    "                        discard.append(entry)\n",
    "        #if the Pokemon is not in the discard list (meaning it does not match any of the types already in results),\n",
    "        #it is is added to the results dictionary\n",
    "        if entry not in discard:\n",
    "            results[entry] = pokemon_dict[entry]\n",
    "    #need to return the results dictionary so it will be available outside the function\n",
    "    return results\n",
    "\n",
    "#call the function using the pokemon_type dictionary as the argument\n",
    "team1 = randomPokemon(pokemon_type)\n",
    "\n",
    "#display team using pokemon_image function\n",
    "print(\"Your team is: \" + \"\\n\")\n",
    "pokemonImage(team1)"
   ]
  },
  {
   "cell_type": "markdown",
   "metadata": {
    "collapsed": false,
    "scrolled": false
   },
   "source": [
    "<p>As you can see above, we have a list of six random Pokemon with no overlapping types.  They are certainly not the team I would normally use, so I have definitely succeeded in giving myself a challenge.</p>"
   ]
  },
  {
   "cell_type": "markdown",
   "metadata": {
    "collapsed": false
   },
   "source": [
    "### Part 2: Tailoring your team\n",
    "\n",
    "<p>So, we can make a random team, but what if we want a team that is a little more useful for the game at hand?  Traditionally, each Pokemon game includes eight Pokemon Gyms where a Gym Leader who specializes in a particular Pokemon type must be defeated.  We can write a function, teamSelection(gym_list) to create a more tailored team.\n",
    "\n",
    "<p>Before we can use teamSelection(gym_list), we will need two more dictionaries: type_pokemon, which has Pokemon types as keys and Pokemon species as values, and super_effective where each key is a Pokemon type and its value is a list of Pokemon types that are strong against the key.</p>"
   ]
  },
  {
   "cell_type": "markdown",
   "metadata": {
    "collapsed": true
   },
   "source": [
    "<p>To create the type_pokemon dictionary, I will reuse some code I wrote for a homework assignment.  The function below, switchDict(dict1), takes a dictionary and returns a dictionary where the keys and values have been switched.  Since keys must be unique, it checks to see if the key already exists and, if so, adds the new value on to the existing values list.</p>"
   ]
  },
  {
   "cell_type": "code",
   "execution_count": 60,
   "metadata": {
    "collapsed": false
   },
   "outputs": [],
   "source": [
    "def switchDict(dict1):\n",
    "    \"\"\"Returns dict where keys and values of dict1 are switched.\"\"\"\n",
    "    #empty dict to store results\n",
    "    dict2 = {}\n",
    "    \n",
    "    #iterate through keys\n",
    "    for key in dict1:\n",
    "        for item in dict1[key]:\n",
    "            #if value already exists as key in dict2, append key as part of already existing value\n",
    "            if item in dict2:\n",
    "                dict2[item].append(key) \n",
    "            #otherwise, add new key:value pair where value is a list\n",
    "            else:\n",
    "                dict2[item] = [key]\n",
    "    return dict2\n",
    "    \n",
    "type_pokemon = switchDict(pokemon_type)"
   ]
  },
  {
   "cell_type": "code",
   "execution_count": 64,
   "metadata": {
    "collapsed": false,
    "scrolled": true
   },
   "outputs": [
    {
     "name": "stdout",
     "output_type": "stream",
     "text": [
      "grass ['morelull', 'pumpkaboo', 'rowlet', 'bounsweet', 'dhelmise', 'phantump', 'chespin', 'skiddo', 'fomantis']\n",
      "poison ['skrelp', 'salandit', 'mareanie']\n",
      "steel ['klefki', 'honedge', 'togedamaru']\n",
      "psychic ['inkay', 'espurr', 'oranguru', 'fennekin', 'bruxish']\n",
      "water ['pyukumuku', 'binacle', 'popplio', 'froakie', 'wimpod', 'clauncher', 'dewpider', 'bruxish', 'mareanie', 'wishiwashi']\n",
      "rock ['amaura', 'binacle', 'minior', 'rockruff', 'carbink', 'tyrunt']\n",
      "bug ['grubbin', 'wimpod', 'scatterbug', 'dewpider', 'cutiefly']\n",
      "normal ['pikipek', 'furfrou', 'helioptile', 'stufful', 'drampa', 'yungoos', 'komala', 'bunnelby', 'oranguru', 'litleo']\n",
      "dragon ['turtonator', 'skrelp', 'jangmo-o', 'drampa', 'goomy', 'noibat', 'tyrunt']\n",
      "fighting ['jangmo-o', 'stufful', 'passimian', 'hawlucha', 'chespin', 'crabrawler', 'pancham']\n",
      "electric ['helioptile', 'grubbin', 'dedenne', 'togedamaru']\n",
      "flying ['pikipek', 'minior', 'fletchling', 'scatterbug', 'hawlucha', 'noibat']\n",
      "fire ['turtonator', 'litten', 'salandit', 'fletchling', 'fennekin', 'litleo']\n",
      "dark ['litten', 'inkay', 'froakie', 'pancham']\n",
      "ice ['amaura', 'bergmite', 'crabrawler']\n",
      "ground ['sandygast', 'mudbray', 'bunnelby']\n",
      "fairy ['spritzee', 'popplio', 'morelull', 'klefki', 'comfey', 'swirlix', 'mimikyu', 'dedenne', 'cutiefly', 'carbink', 'flabebe']\n",
      "ghost ['pumpkaboo', 'rowlet', 'sandygast', 'dhelmise', 'mimikyu', 'honedge', 'phantump']\n"
     ]
    }
   ],
   "source": [
    "#Now we have a dictionary where Pokemon type is the key and a list of corresponding Pokemon is the value\n",
    "for item in type_pokemon:\n",
    "    print(item, type_pokemon[item])"
   ]
  },
  {
   "cell_type": "markdown",
   "metadata": {},
   "source": [
    "<p>Now to create super_effective dictionary.  Again, you can probably find this data is an importable format on the internet if you so choose.</p>"
   ]
  },
  {
   "cell_type": "code",
   "execution_count": 74,
   "metadata": {
    "collapsed": true
   },
   "outputs": [],
   "source": [
    "super_effective = {\"normal\": [\"fighting\"], \"fighting\": [\"flying\", \"psychic\", \"fairy\"],\n",
    "                  \"flying\": [\"rock\", \"electric\", \"ice\"], \"poison\": [\"ground\", \"psychic\"],\n",
    "                  \"ground\": [\"water\", \"grass\", \"ice\"], \"rock\": \n",
    "                   [\"fighting\", \"ground\", \"steel\", \"water\", \"grass\"], \"bug\": [\"flying\", \"rock\", \"fire\"],\n",
    "                  \"ghost\": [\"ghost\", \"dark\"], \"steel\": [\"fighting\", \"ground\", \"fire\"],\n",
    "                  \"fire\": [\"ground\", \"rock\", \"water\"], \"water\": [\"grass\", \"electric\"], \"grass\":\n",
    "                  [\"flying\", \"poison\", \"bug\", \"fire\", \"ice\"], \"electric\": [\"ground\"], \"psychic\":\n",
    "                  [\"ghost\", \"dark\", \"bug\"], \"ice\": [\"fighting\", \"rock\", \"steel\", \"fire\"], \"dragon\":\n",
    "                  [\"fairy\", \"dragon\", \"ice\"], \"dark\": [\"fighting\", \"bug\", \"fairy\"], \"fairy\":\n",
    "                  [\"poison\", \"steel\"]}"
   ]
  },
  {
   "cell_type": "code",
   "execution_count": 69,
   "metadata": {
    "collapsed": true
   },
   "outputs": [],
   "source": [
    "#below are two lists to use when testing the teamSelection function\n",
    "\n",
    "kalos_gyms = [\"bug\", \"rock\", \"fighting\", \"grass\", \"electric\", \"fairy\", \"psychic\", \"ice\"]\n",
    "kanto_gyms = [\"rock\", \"water\", \"electric\", \"grass\", \"poison\", \"psychic\", \"fire\", \"ground\"]"
   ]
  },
  {
   "cell_type": "markdown",
   "metadata": {},
   "source": [
    "<p>We are now ready to write teamSelection(gym_list), which takes a list of Pokemon Gym types, and returns a team of Pokemon with the necessary type advantages.  This function sorts gym types by fewest to most weaknesses and checks to see if the requested type already exists in the results1 dictionary so you will likely end up with a resulting dictionary where one Pokemon is providing type advantages for multiple gym leaders.  However, the scope of this project does not include strictly limiting the results to six Pokemon since you can change Pokemon throughout the game and I find it more interesting to play with as many Pokemon as possible.  In fact, you could have some fun playing around with the randomPokemon function above to adjust the size of the resulting Pokemon team.</p>"
   ]
  },
  {
   "cell_type": "code",
   "execution_count": 235,
   "metadata": {
    "collapsed": false
   },
   "outputs": [
    {
     "name": "stdout",
     "output_type": "stream",
     "text": [
      "[{'electric': ['ground']}, {'fairy': ['poison', 'steel']}, {'fighting': ['flying', 'psychic', 'fairy']}, {'psychic': ['ghost', 'dark', 'bug']}, {'bug': ['flying', 'rock', 'fire']}, {'ice': ['fighting', 'rock', 'steel', 'fire']}, {'grass': ['flying', 'poison', 'bug', 'fire', 'ice']}, {'rock': ['fighting', 'ground', 'steel', 'water', 'grass']}]\n",
      "Your team is: \n",
      "\n",
      "sandygast ['ghost', 'ground']\n"
     ]
    },
    {
     "data": {
      "image/png": "[encoded data removed]",
      "text/plain": [
       "<IPython.core.display.Image object>"
      ]
     },
     "metadata": {},
     "output_type": "display_data"
    },
    {
     "name": "stdout",
     "output_type": "stream",
     "text": [
      "carbink ['rock', 'fairy']\n"
     ]
    },
    {
     "data": {
      "image/png": "[encoded data removed]",
      "text/plain": [
       "<IPython.core.display.Image object>"
      ]
     },
     "metadata": {},
     "output_type": "display_data"
    },
    {
     "name": "stdout",
     "output_type": "stream",
     "text": [
      "skrelp ['poison', 'dragon']\n"
     ]
    },
    {
     "data": {
      "image/png": "[encoded data removed]",
      "text/plain": [
       "<IPython.core.display.Image object>"
      ]
     },
     "metadata": {},
     "output_type": "display_data"
    },
    {
     "name": "stdout",
     "output_type": "stream",
     "text": [
      "{'sandygast': ['ghost', 'ground'], 'carbink': ['rock', 'fairy'], 'skrelp': ['poison', 'dragon']}\n"
     ]
    }
   ],
   "source": [
    "def teamSelection(gym_list):\n",
    "    \"\"\"Takes list of gym types and produces dictionary of pokemon with type advantages.\"\"\"\n",
    "    #empty dictionary for results\n",
    "    results1 = {}\n",
    "    \n",
    "    #empty list to store values during function\n",
    "    match = []\n",
    "    \n",
    "    #empty dictionary to use to pull in type:supereffective types data for each gym in gym_list\n",
    "    gyms = {}\n",
    "\n",
    "    #version of sorted gyms sorted by len of values, shortest to longest\n",
    "    sorted_gyms = []\n",
    "\n",
    "    #create dictionary containing gym type:supereffective types for input gym_list\n",
    "    for gym in gym_list:\n",
    "        gyms[gym] = super_effective[gym]\n",
    "\n",
    "    #turn gyms dictionary into sorted_gyms list of dictionaries\n",
    "    for k in sorted(gyms, key=lambda k: len(gyms[k])):\n",
    "        sorted_gyms.append({k: gyms[k]})\n",
    "    print(sorted_gyms)\n",
    "    \n",
    "    #iterate through each gym type:supereffective types dictionary in sorted_gyms\n",
    "    for sub_dict in sorted_gyms:\n",
    "        for key in sub_dict:\n",
    "            #check to see if any of the supereffective types are already in the results1 dictionary\n",
    "            for value in sub_dict[key]:\n",
    "                for item in list(results1.values()):\n",
    "                    #if there's a match, add type to match list\n",
    "                    if value in item:\n",
    "                        match.append(value)\n",
    "            #if there are no matches, pick a random supereffective type and a random corresponding Pokemon\n",
    "            #add that Pokemon to the results1 dictionary\n",
    "            if len(match) == 0:\n",
    "                chosen_type = random.choice(sub_dict[key])\n",
    "                chosen_pokemon = random.choice(type_pokemon[chosen_type])\n",
    "                results1[chosen_pokemon] = pokemon_type[chosen_pokemon]\n",
    "            #empty the match list at the end of each loop\n",
    "            match = []\n",
    "    #return results so they can be accessed outside the function\n",
    "    return results1\n",
    "\n",
    "#call the function using one of the gym lists\n",
    "team2 = teamSelection(kalos_gyms)\n",
    "\n",
    "#display pokemon names, types, and images using pokemon_image function\n",
    "print(\"Your team is: \" + \"\\n\")\n",
    "pokemonImage(team2)\n",
    "\n",
    "#print team dictionary\n",
    "print(team2)"
   ]
  },
  {
   "cell_type": "code",
   "execution_count": 127,
   "metadata": {
    "collapsed": false
   },
   "outputs": [],
   "source": [
    "kalos_gyms = [\"bug\", \"rock\", \"fighting\", \"grass\", \"electric\", \"fairy\", \"psychic\", \"ice\"]\n",
    "kanto_gyms = [\"rock\", \"water\", \"electric\", \"grass\", \"poison\", \"psychic\", \"fire\", \"ground\"]"
   ]
  },
  {
   "cell_type": "markdown",
   "metadata": {},
   "source": [
    "<p>Using teamSelection, most resulting teams consist of fewer than six Pokemon, so the function is pretty efficient in turning out a team where each Pokemon is providing coverage for multiple opposing types.  This function could result in a team with overlapping types, but only if at least one of the Pokemon sharing a type is also providing additional type coverage with its secondary type.  In the several dozen (at least!) times I ran this function, type overlap only happened a couple of times.</p>"
   ]
  },
  {
   "cell_type": "code",
   "execution_count": null,
   "metadata": {
    "collapsed": false
   },
   "outputs": [],
   "source": []
  },
  {
   "cell_type": "code",
   "execution_count": null,
   "metadata": {
    "collapsed": true
   },
   "outputs": [],
   "source": []
  }
 ],
 "metadata": {
  "anaconda-cloud": {},
  "kernelspec": {
   "display_name": "Python [conda root]",
   "language": "python",
   "name": "conda-root-py"
  },
  "language_info": {
   "codemirror_mode": {
    "name": "ipython",
    "version": 3
   },
   "file_extension": ".py",
   "mimetype": "text/x-python",
   "name": "python",
   "nbconvert_exporter": "python",
   "pygments_lexer": "ipython3",
   "version": "3.5.2"
  }
 },
 "nbformat": 4,
 "nbformat_minor": 1
}
